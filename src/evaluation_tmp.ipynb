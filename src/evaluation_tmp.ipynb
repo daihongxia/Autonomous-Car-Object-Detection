{
 "cells": [
  {
   "cell_type": "code",
   "execution_count": 1,
   "metadata": {},
   "outputs": [],
   "source": [
    "import numpy as np\n",
    "import pandas as pd"
   ]
  },
  {
   "cell_type": "code",
   "execution_count": 3,
   "metadata": {},
   "outputs": [],
   "source": [
    "from preprocessing import str2coords\n",
    "def load_data(PATH='../../data/pku-autonomous-driving/'):\n",
    "    train = pd.read_csv(PATH + 'train.csv')\n",
    "    test = pd.read_csv(PATH + 'sample_submission.csv')\n",
    "    return train, test"
   ]
  },
  {
   "cell_type": "code",
   "execution_count": 4,
   "metadata": {},
   "outputs": [],
   "source": [
    "train,test = load_data('../data/pku-autonomous-driving/')"
   ]
  },
  {
   "cell_type": "code",
   "execution_count": 5,
   "metadata": {},
   "outputs": [],
   "source": [
    "res1 = str2coords(train.values[0][1])"
   ]
  },
  {
   "cell_type": "code",
   "execution_count": 6,
   "metadata": {},
   "outputs": [],
   "source": [
    "yaws = np.array([item['yaw'] for item in res1])\n",
    "pitchs = np.array([item['pitch'] for item in res1])\n",
    "rolls = np.array([item['roll'] for item in res1])\n"
   ]
  },
  {
   "cell_type": "code",
   "execution_count": 2,
   "metadata": {},
   "outputs": [],
   "source": [
    "def euler_to_quaternion(yaw, pitch, roll):\n",
    "    qx = np.sin(roll/2) * np.cos(pitch/2) * np.cos(yaw/2) - np.cos(roll/2) * np.sin(pitch/2) * np.sin(yaw/2)\n",
    "    qy = np.cos(roll/2) * np.sin(pitch/2) * np.cos(yaw/2) + np.sin(roll/2) * np.cos(pitch/2) * np.sin(yaw/2)\n",
    "    qz = np.cos(roll/2) * np.cos(pitch/2) * np.sin(yaw/2) - np.sin(roll/2) * np.sin(pitch/2) * np.cos(yaw/2)\n",
    "    qw = np.cos(roll/2) * np.cos(pitch/2) * np.cos(yaw/2) + np.sin(roll/2) * np.sin(pitch/2) * np.sin(yaw/2)\n",
    "\n",
    "    return [qx, qy, qz, qw]"
   ]
  },
  {
   "cell_type": "code",
   "execution_count": 7,
   "metadata": {},
   "outputs": [],
   "source": [
    "qx,qy,qz,qw = euler_to_quaternion(yaws, pitchs,rolls)"
   ]
  },
  {
   "cell_type": "code",
   "execution_count": 8,
   "metadata": {},
   "outputs": [],
   "source": [
    "def normalized(qx,qy,qz,qw):\n",
    "    qd = np.sqrt(qx**2+qy**2+qz**2+qw**2)\n",
    "    return qx/qd,qy/qd,qz/qd,qw/qd"
   ]
  },
  {
   "cell_type": "code",
   "execution_count": 12,
   "metadata": {},
   "outputs": [],
   "source": [
    "def inverse(qx,qy,qz,qw):\n",
    "    qd2 = qx**2+qy**2+qz**2+qw**2\n",
    "    return -qx/qd2, -qy/qd2, -qz/qd2, qw/qd2"
   ]
  },
  {
   "cell_type": "code",
   "execution_count": 22,
   "metadata": {},
   "outputs": [],
   "source": [
    "def multiply_w(qx1,qy1,qz1,qw1,qx2,qy2,qz2,qw2):\n",
    "    return qw2*qw1 - qx1*qx2-qy1*qy2-qz1*qz2"
   ]
  },
  {
   "cell_type": "code",
   "execution_count": 25,
   "metadata": {},
   "outputs": [],
   "source": [
    "def RotationDistance(item1, item2):\n",
    "    #item: (yaw,pitch,roll)\n",
    "    \n",
    "    qx1,qy1,qz1,qw1 = normalized(*euler_to_quaternion(*item1))\n",
    "    qx2,qy2,qz2,qw2 = normalized(*euler_to_quaternion(*item2))\n",
    "    \n",
    "    diff_w = multiply_w(qx1,qy1,qz1,qw1, \n",
    "                      *inverse(qx2,qy2,qz2,qw2))\n",
    "    diff_w = max(diff_w, -1.)\n",
    "    diff_w = min(1, diff_w)\n",
    "    return np.degrees(np.arccos(diff_w))"
   ]
  },
  {
   "cell_type": "code",
   "execution_count": 28,
   "metadata": {},
   "outputs": [],
   "source": [
    "def TranslationDistance(o1, o2):\n",
    "    #o: (x,y,z)\n",
    "    o1 = np.array(o1)\n",
    "    o2 = np.array(o2)\n",
    "    return np.sqrt(np.sum((o1-o2)**2))"
   ]
  },
  {
   "cell_type": "code",
   "execution_count": null,
   "metadata": {},
   "outputs": [],
   "source": [
    "def obtain_score(s_pred, s_true):\n",
    "    label1 = str2coords(s_pred)\n",
    "    label2 = str2coords(s_true)\n",
    "    \n",
    "    yaws1 = np.array([item['yaw'] for item in label1])\n",
    "    pitchs1 = np.array([item['pitch'] for item in label1])\n",
    "    rolls1 = np.array([item['roll'] for item in label1])\n",
    "    x1 = np.array([item['x'] for item in label1])\n",
    "    y1 = np.array([item['y'] for item in label1])\n",
    "    z1 = np.array([item['z'] for item in label1])\n",
    "    \n",
    "    yaws2 = np.array([item['yaw'] for item in label2])\n",
    "    pitchs2 = np.array([item['pitch'] for item in label2])\n",
    "    rolls2 = np.array([item['roll'] for item in label2])\n",
    "    x2 = np.array([item['x'] for item in label2])\n",
    "    y2 = np.array([item['y'] for item in label2])\n",
    "    z2 = np.array([item['z'] for item in label2])\n",
    "    \n",
    "    for i,(yaw_p,pitch_p,roll_p,x_p,y_p,z_p) in enumerate(zip(yaws1,\n",
    "                                      pitchs1,\n",
    "                                      rolls1,\n",
    "                                      x1,\n",
    "                                      y1,\n",
    "                                      z1)):\n",
    "        for j,(yaw_t,pitch_t,roll_t,x_t,y_t,z_t) in enumerate(zip(yaws2,\n",
    "                                      pitchs2,\n",
    "                                      rolls2,\n",
    "                                      x2,\n",
    "                                      y2,\n",
    "                                      z2)):\n",
    "            dist1 = RotationDistance((yaw_p,pitch_p,roll_p),\n",
    "                (yaw_t,pitch_t,roll_t))\n",
    "            \n",
    "            dist2 = TranslationDistance((x_p,y_p,z_p),\n",
    "                                       (x_t,y_t,z_t))\n",
    "            \n",
    "    "
   ]
  }
 ],
 "metadata": {
  "kernelspec": {
   "display_name": "Python 3",
   "language": "python",
   "name": "python3"
  },
  "language_info": {
   "codemirror_mode": {
    "name": "ipython",
    "version": 3
   },
   "file_extension": ".py",
   "mimetype": "text/x-python",
   "name": "python",
   "nbconvert_exporter": "python",
   "pygments_lexer": "ipython3",
   "version": "3.7.4"
  }
 },
 "nbformat": 4,
 "nbformat_minor": 4
}
